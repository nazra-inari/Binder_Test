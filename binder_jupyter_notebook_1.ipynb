{
 "cells": [
  {
   "cell_type": "markdown",
   "metadata": {},
   "source": [
    "This is a jupyter notebook with a python kernel. The purpose of this notebook is to see if we can have an interactive blog experience. This would be achieved by trying to load the static Git version of the jupyter notebook via github pages and binder.\n",
    "\n",
    "What this means is that if I were to load this blog with Binder, I would be able to add the interactive experience shown below\n"
   ]
  },
  {
   "cell_type": "code",
   "execution_count": 30,
   "metadata": {},
   "outputs": [
    {
     "name": "stdout",
     "output_type": "stream",
     "text": [
      "[1, 2, 3]\n",
      "range(1, 10)\n",
      "And the actual numbers in y are\n",
      "\n",
      "1\n",
      "2\n",
      "3\n",
      "4\n",
      "5\n",
      "6\n",
      "7\n",
      "8\n",
      "9\n"
     ]
    }
   ],
   "source": [
    "# One way to create a list is to manually enter each value.\n",
    "# I've entered 1,2 and 3 for the list below\n",
    "\n",
    "x = [1,2,3]\n",
    "\n",
    "# However, a quicker way is\n",
    "\n",
    "y = range(1,10)\n",
    "\n",
    "# The range() function gives me the ability to pick\n",
    "# - a starting point\n",
    "# - an ending point\n",
    "# and in return, the range function gives us a list for all integers between the start and end point\n",
    "# However the end point is not included in the list. \n",
    "# So the list is : [1,2,3,4,5,6,7,8,9]\n",
    "print(x)\n",
    "print(y)\n",
    "print(\"And the actual numbers in y are\\n\")\n",
    "for numbers in y:\n",
    "    print(y[numbers -1])"
   ]
  },
  {
   "cell_type": "code",
   "execution_count": null,
   "metadata": {},
   "outputs": [],
   "source": [
    "#Sanity Check\n",
    "\n",
    "y[9] # Will throw an error"
   ]
  },
  {
   "cell_type": "code",
   "execution_count": null,
   "metadata": {},
   "outputs": [],
   "source": [
    "# However, there is an interesting thing to note. \n",
    "# The type functions shows that x is a list, while y is range"
   ]
  },
  {
   "cell_type": "code",
   "execution_count": 20,
   "metadata": {},
   "outputs": [
    {
     "data": {
      "text/plain": [
       "list"
      ]
     },
     "execution_count": 20,
     "metadata": {},
     "output_type": "execute_result"
    }
   ],
   "source": [
    "type(x)"
   ]
  },
  {
   "cell_type": "code",
   "execution_count": 21,
   "metadata": {},
   "outputs": [
    {
     "data": {
      "text/plain": [
       "range"
      ]
     },
     "execution_count": 21,
     "metadata": {},
     "output_type": "execute_result"
    }
   ],
   "source": [
    "type(y)"
   ]
  },
  {
   "cell_type": "markdown",
   "metadata": {},
   "source": [
    "That's all I have for today. Please check in later. Thank you"
   ]
  },
  {
   "cell_type": "code",
   "execution_count": null,
   "metadata": {},
   "outputs": [],
   "source": []
  }
 ],
 "metadata": {
  "kernelspec": {
   "display_name": "Python 3",
   "language": "python",
   "name": "python3"
  },
  "language_info": {
   "codemirror_mode": {
    "name": "ipython",
    "version": 3
   },
   "file_extension": ".py",
   "mimetype": "text/x-python",
   "name": "python",
   "nbconvert_exporter": "python",
   "pygments_lexer": "ipython3",
   "version": "3.6.5"
  }
 },
 "nbformat": 4,
 "nbformat_minor": 2
}
